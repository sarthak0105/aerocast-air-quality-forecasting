{
 "cells": [
  {
   "cell_type": "markdown",
   "metadata": {},
   "source": [
    "# Air Quality Data Exploration\n",
    "\n",
    "This notebook provides exploratory data analysis for the air quality forecasting dataset."
   ]
  },
  {
   "cell_type": "code",
   "execution_count": null,
   "metadata": {},
   "outputs": [],
   "source": [
    "import pandas as pd\n",
    "import numpy as np\n",
    "import matplotlib.pyplot as plt\n",
    "import seaborn as sns\n",
    "from pathlib import Path\n",
    "import warnings\n",
    "warnings.filterwarnings('ignore')\n",
    "\n",
    "# Set style\n",
    "plt.style.use('seaborn-v0_8')\n",
    "sns.set_palette(\"husl\")\n",
    "\n",
    "# Add project root to path\n",
    "import sys\n",
    "sys.path.append('..')\n",
    "\n",
    "from config.settings import settings\n",
    "from src.utils.logger import setup_logging, get_logger\n",
    "\n",
    "# Setup logging\n",
    "setup_logging()\n",
    "logger = get_logger(__name__)"
   ]
  },
  {
   "cell_type": "markdown",
   "metadata": {},
   "source": [
    "## 1. Load and Inspect Data"
   ]
  },
  {
   "cell_type": "code",
   "execution_count": null,
   "metadata": {},
   "outputs": [],
   "source": [
    "# Load your dataset here\n",
    "# Replace 'your_data.csv' with the actual path to your dataset\n",
    "data_path = '../data/raw/your_data.csv'\n",
    "\n",
    "# Check if file exists\n",
    "if Path(data_path).exists():\n",
    "    df = pd.read_csv(data_path)\n",
    "    print(f\"Data loaded successfully: {df.shape}\")\n",
    "else:\n",
    "    print(f\"Data file not found: {data_path}\")\n",
    "    print(\"Please place your dataset in the data/raw/ directory\")\n",
    "    \n",
    "    # Create sample data for demonstration\n",
    "    print(\"Creating sample data for demonstration...\")\n",
    "    \n",
    "    dates = pd.date_range('2020-01-01', '2023-12-31', freq='H')\n",
    "    n_samples = len(dates)\n",
    "    \n",
    "    # Generate synthetic data\n",
    "    np.random.seed(42)\n",
    "    \n",
    "    df = pd.DataFrame({\n",
    "        'datetime': dates,\n",
    "        'latitude': np.random.normal(28.6, 0.1, n_samples),\n",
    "        'longitude': np.random.normal(77.2, 0.1, n_samples),\n",
    "        'NO2': np.random.lognormal(3.5, 0.5, n_samples),\n",
    "        'O3': np.random.lognormal(3.8, 0.4, n_samples),\n",
    "        'temperature_2m': np.random.normal(25, 8, n_samples) + 273.15,  # Kelvin\n",
    "        'relative_humidity_2m': np.random.beta(2, 2, n_samples) * 100,\n",
    "        'surface_pressure': np.random.normal(101325, 1000, n_samples),\n",
    "        'wind_speed_10m': np.random.exponential(3, n_samples),\n",
    "        'wind_direction_10m': np.random.uniform(0, 360, n_samples),\n",
    "        'boundary_layer_height': np.random.lognormal(6.5, 0.5, n_samples),\n",
    "        'solar_radiation': np.maximum(0, np.random.normal(200, 150, n_samples)),\n",
    "        'precipitation': np.random.exponential(0.1, n_samples)\n",
    "    })\n",
    "    \n",
    "    print(f\"Sample data created: {df.shape}\")"
   ]
  },
  {
   "cell_type": "code",
   "execution_count": null,
   "metadata": {},
   "outputs": [],
   "source": [
    "# Basic information about the dataset\n",
    "print(\"Dataset Info:\")\n",
    "print(f\"Shape: {df.shape}\")\n",
    "print(f\"Date range: {df['datetime'].min()} to {df['datetime'].max()}\")\n",
    "print(f\"Columns: {list(df.columns)}\")\n",
    "\n",
    "# Display first few rows\n",
    "df.head()"
   ]
  },
  {
   "cell_type": "code",
   "execution_count": null,
   "metadata": {},
   "outputs": [],
   "source": [
    "# Data types and missing values\n",
    "print(\"Data Types and Missing Values:\")\n",
    "info_df = pd.DataFrame({\n",
    "    'Data Type': df.dtypes,\n",
    "    'Missing Count': df.isnull().sum(),\n",
    "    'Missing %': (df.isnull().sum() / len(df)) * 100\n",
    "})\n",
    "print(info_df)"
   ]
  },
  {
   "cell_type": "markdown",
   "metadata": {},
   "source": [
    "## 2. Statistical Summary"
   ]
  },
  {
   "cell_type": "code",
   "execution_count": null,
   "metadata": {},
   "outputs": [],
   "source": [
    "# Statistical summary for numerical columns\n",
    "numerical_cols = df.select_dtypes(include=[np.number]).columns\n",
    "df[numerical_cols].describe()"
   ]
  },
  {
   "cell_type": "markdown",
   "metadata": {},
   "source": [
    "## 3. Target Variables Analysis"
   ]
  },
  {
   "cell_type": "code",
   "execution_count": null,
   "metadata": {},
   "outputs": [],
   "source": [
    "# Distribution of target variables\n",
    "fig, axes = plt.subplots(2, 2, figsize=(15, 10))\n",
    "\n",
    "# NO2 distribution\n",
    "axes[0, 0].hist(df['NO2'], bins=50, alpha=0.7, edgecolor='black')\n",
    "axes[0, 0].set_title('NO2 Distribution')\n",
    "axes[0, 0].set_xlabel('NO2 (μg/m³)')\n",
    "axes[0, 0].set_ylabel('Frequency')\n",
    "\n",
    "# O3 distribution\n",
    "axes[0, 1].hist(df['O3'], bins=50, alpha=0.7, edgecolor='black')\n",
    "axes[0, 1].set_title('O3 Distribution')\n",
    "axes[0, 1].set_xlabel('O3 (μg/m³)')\n",
    "axes[0, 1].set_ylabel('Frequency')\n",
    "\n",
    "# NO2 box plot\n",
    "axes[1, 0].boxplot(df['NO2'])\n",
    "axes[1, 0].set_title('NO2 Box Plot')\n",
    "axes[1, 0].set_ylabel('NO2 (μg/m³)')\n",
    "\n",
    "# O3 box plot\n",
    "axes[1, 1].boxplot(df['O3'])\n",
    "axes[1, 1].set_title('O3 Box Plot')\n",
    "axes[1, 1].set_ylabel('O3 (μg/m³)')\n",
    "\n",
    "plt.tight_layout()\n",
    "plt.show()"
   ]
  },
  {
   "cell_type": "code",
   "execution_count": null,
   "metadata": {},
   "outputs": [],
   "source": [
    "# Correlation between NO2 and O3\n",
    "plt.figure(figsize=(8, 6))\n",
    "plt.scatter(df['NO2'], df['O3'], alpha=0.5)\n",
    "plt.xlabel('NO2 (μg/m³)')\n",
    "plt.ylabel('O3 (μg/m³)')\n",
    "plt.title('NO2 vs O3 Correlation')\n",
    "\n",
    "# Add correlation coefficient\n",
    "correlation = df['NO2'].corr(df['O3'])\n",
    "plt.text(0.05, 0.95, f'Correlation: {correlation:.3f}', \n",
    "         transform=plt.gca().transAxes, fontsize=12,\n",
    "         bbox=dict(boxstyle='round', facecolor='white', alpha=0.8))\n",
    "\n",
    "plt.grid(True, alpha=0.3)\n",
    "plt.show()"
   ]
  },
  {
   "cell_type": "markdown",
   "metadata": {},
   "source": [
    "## 4. Temporal Patterns"
   ]
  },
  {
   "cell_type": "code",
   "execution_count": null,
   "metadata": {},
   "outputs": [],
   "source": [
    "# Convert datetime column\n",
    "df['datetime'] = pd.to_datetime(df['datetime'])\n",
    "df['hour'] = df['datetime'].dt.hour\n",
    "df['day_of_week'] = df['datetime'].dt.dayofweek\n",
    "df['month'] = df['datetime'].dt.month\n",
    "df['year'] = df['datetime'].dt.year"
   ]
  },
  {
   "cell_type": "code",
   "execution_count": null,
   "metadata": {},
   "outputs": [],
   "source": [
    "# Time series plot\n",
    "fig, axes = plt.subplots(2, 1, figsize=(15, 10))\n",
    "\n",
    "# Plot subset of data for clarity\n",
    "subset = df.iloc[:24*30]  # First 30 days\n",
    "\n",
    "axes[0].plot(subset['datetime'], subset['NO2'], label='NO2', alpha=0.8)\n",
    "axes[0].set_title('NO2 Time Series (First 30 Days)')\n",
    "axes[0].set_ylabel('NO2 (μg/m³)')\n",
    "axes[0].legend()\n",
    "axes[0].grid(True, alpha=0.3)\n",
    "\n",
    "axes[1].plot(subset['datetime'], subset['O3'], label='O3', color='orange', alpha=0.8)\n",
    "axes[1].set_title('O3 Time Series (First 30 Days)')\n",
    "axes[1].set_ylabel('O3 (μg/m³)')\n",
    "axes[1].set_xlabel('Date')\n",
    "axes[1].legend()\n",
    "axes[1].grid(True, alpha=0.3)\n",
    "\n",
    "plt.tight_layout()\n",
    "plt.show()"
   ]
  },
  {
   "cell_type": "code",
   "execution_count": null,
   "metadata": {},
   "outputs": [],
   "source": [
    "# Hourly patterns\n",
    "fig, axes = plt.subplots(1, 2, figsize=(15, 6))\n",
    "\n",
    "# NO2 hourly pattern\n",
    "hourly_no2 = df.groupby('hour')['NO2'].mean()\n",
    "axes[0].plot(hourly_no2.index, hourly_no2.values, marker='o')\n",
    "axes[0].set_title('Average NO2 by Hour of Day')\n",
    "axes[0].set_xlabel('Hour')\n",
    "axes[0].set_ylabel('NO2 (μg/m³)')\n",
    "axes[0].grid(True, alpha=0.3)\n",
    "\n",
    "# O3 hourly pattern\n",
    "hourly_o3 = df.groupby('hour')['O3'].mean()\n",
    "axes[1].plot(hourly_o3.index, hourly_o3.values, marker='o', color='orange')\n",
    "axes[1].set_title('Average O3 by Hour of Day')\n",
    "axes[1].set_xlabel('Hour')\n",
    "axes[1].set_ylabel('O3 (μg/m³)')\n",
    "axes[1].grid(True, alpha=0.3)\n",
    "\n",
    "plt.tight_layout()\n",
    "plt.show()"
   ]
  },
  {
   "cell_type": "code",
   "execution_count": null,
   "metadata": {},
   "outputs": [],
   "source": [
    "# Monthly patterns\n",
    "fig, axes = plt.subplots(1, 2, figsize=(15, 6))\n",
    "\n",
    "# NO2 monthly pattern\n",
    "monthly_no2 = df.groupby('month')['NO2'].mean()\n",
    "axes[0].plot(monthly_no2.index, monthly_no2.values, marker='o')\n",
    "axes[0].set_title('Average NO2 by Month')\n",
    "axes[0].set_xlabel('Month')\n",
    "axes[0].set_ylabel('NO2 (μg/m³)')\n",
    "axes[0].set_xticks(range(1, 13))\n",
    "axes[0].grid(True, alpha=0.3)\n",
    "\n",
    "# O3 monthly pattern\n",
    "monthly_o3 = df.groupby('month')['O3'].mean()\n",
    "axes[1].plot(monthly_o3.index, monthly_o3.values, marker='o', color='orange')\n",
    "axes[1].set_title('Average O3 by Month')\n",
    "axes[1].set_xlabel('Month')\n",
    "axes[1].set_ylabel('O3 (μg/m³)')\n",
    "axes[1].set_xticks(range(1, 13))\n",
    "axes[1].grid(True, alpha=0.3)\n",
    "\n",
    "plt.tight_layout()\n",
    "plt.show()"
   ]
  },
  {
   "cell_type": "markdown",
   "metadata": {},
   "source": [
    "## 5. Meteorological Variables Analysis"
   ]
  },
  {
   "cell_type": "code",
   "execution_count": null,
   "metadata": {},
   "outputs": [],
   "source": [
    "# Correlation matrix\n",
    "met_vars = ['temperature_2m', 'relative_humidity_2m', 'surface_pressure', \n",
    "            'wind_speed_10m', 'boundary_layer_height', 'solar_radiation']\n",
    "target_vars = ['NO2', 'O3']\n",
    "\n",
    "corr_matrix = df[met_vars + target_vars].corr()\n",
    "\n",
    "plt.figure(figsize=(10, 8))\n",
    "sns.heatmap(corr_matrix, annot=True, cmap='coolwarm', center=0, \n",
    "            square=True, fmt='.2f')\n",
    "plt.title('Correlation Matrix: Meteorological Variables vs Pollutants')\n",
    "plt.tight_layout()\n",
    "plt.show()"
   ]
  },
  {
   "cell_type": "code",
   "execution_count": null,
   "metadata": {},
   "outputs": [],
   "source": [
    "# Scatter plots: Meteorological variables vs pollutants\n",
    "fig, axes = plt.subplots(2, 3, figsize=(18, 12))\n",
    "axes = axes.flatten()\n",
    "\n",
    "for i, met_var in enumerate(met_vars):\n",
    "    # NO2 vs meteorological variable\n",
    "    axes[i].scatter(df[met_var], df['NO2'], alpha=0.3, s=1, label='NO2')\n",
    "    axes[i].scatter(df[met_var], df['O3'], alpha=0.3, s=1, label='O3')\n",
    "    axes[i].set_xlabel(met_var)\n",
    "    axes[i].set_ylabel('Concentration (μg/m³)')\n",
    "    axes[i].set_title(f'{met_var} vs Pollutants')\n",
    "    axes[i].legend()\n",
    "    axes[i].grid(True, alpha=0.3)\n",
    "\n",
    "plt.tight_layout()\n",
    "plt.show()"
   ]
  },
  {
   "cell_type": "markdown",
   "metadata": {},
   "source": [
    "## 6. Data Quality Assessment"
   ]
  },
  {
   "cell_type": "code",
   "execution_count": null,
   "metadata": {},
   "outputs": [],
   "source": [
    "# Check for outliers using IQR method\n",
    "def detect_outliers(df, column):\n",
    "    Q1 = df[column].quantile(0.25)\n",
    "    Q3 = df[column].quantile(0.75)\n",
    "    IQR = Q3 - Q1\n",
    "    lower_bound = Q1 - 1.5 * IQR\n",
    "    upper_bound = Q3 + 1.5 * IQR\n",
    "    \n",
    "    outliers = df[(df[column] < lower_bound) | (df[column] > upper_bound)]\n",
    "    return len(outliers), (len(outliers) / len(df)) * 100\n",
    "\n",
    "print(\"Outlier Analysis:\")\n",
    "for col in ['NO2', 'O3'] + met_vars:\n",
    "    outlier_count, outlier_pct = detect_outliers(df, col)\n",
    "    print(f\"{col}: {outlier_count} outliers ({outlier_pct:.2f}%)\")"
   ]
  },
  {
   "cell_type": "code",
   "execution_count": null,
   "metadata": {},
   "outputs": [],
   "source": [
    "# Check for data gaps\n",
    "df_sorted = df.sort_values('datetime')\n",
    "time_diff = df_sorted['datetime'].diff()\n",
    "expected_freq = pd.Timedelta(hours=1)  # Assuming hourly data\n",
    "\n",
    "gaps = time_diff[time_diff > expected_freq]\n",
    "print(f\"Data gaps found: {len(gaps)}\")\n",
    "\n",
    "if len(gaps) > 0:\n",
    "    print(\"\\nLargest gaps:\")\n",
    "    print(gaps.nlargest(5))"
   ]
  },
  {
   "cell_type": "markdown",
   "metadata": {},
   "source": [
    "## 7. Summary and Recommendations"
   ]
  },
  {
   "cell_type": "code",
   "execution_count": null,
   "metadata": {},
   "outputs": [],
   "source": [
    "print(\"DATA EXPLORATION SUMMARY\")\n",
    "print(\"=\" * 50)\n",
    "print(f\"Dataset shape: {df.shape}\")\n",
    "print(f\"Date range: {df['datetime'].min()} to {df['datetime'].max()}\")\n",
    "print(f\"Total missing values: {df.isnull().sum().sum()}\")\n",
    "print(f\"Missing percentage: {(df.isnull().sum().sum() / df.size) * 100:.2f}%\")\n",
    "\n",
    "print(\"\\nTARGET VARIABLES:\")\n",
    "print(f\"NO2 - Mean: {df['NO2'].mean():.2f}, Std: {df['NO2'].std():.2f}, Range: [{df['NO2'].min():.2f}, {df['NO2'].max():.2f}]\")\n",
    "print(f\"O3 - Mean: {df['O3'].mean():.2f}, Std: {df['O3'].std():.2f}, Range: [{df['O3'].min():.2f}, {df['O3'].max():.2f}]\")\n",
    "print(f\"NO2-O3 Correlation: {df['NO2'].corr(df['O3']):.3f}\")\n",
    "\n",
    "print(\"\\nRECOMMENDations:\")\n",
    "print(\"1. Handle missing values using appropriate imputation methods\")\n",
    "print(\"2. Consider outlier treatment for extreme values\")\n",
    "print(\"3. Engineer temporal features (hour, day, season)\")\n",
    "print(\"4. Create lag features for time series modeling\")\n",
    "print(\"5. Normalize/standardize features before modeling\")\n",
    "print(\"6. Consider meteorological variables with high correlation to targets\")"
   ]
  }
 ],
 "metadata": {
  "kernelspec": {
   "display_name": "Python 3",
   "language": "python",
   "name": "python3"
  },
  "language_info": {
   "codemirror_mode": {
    "name": "ipython",
    "version": 3
   },
   "file_extension": ".py",
   "mimetype": "text/x-python",
   "name": "python",
   "nbconvert_exporter": "python",
   "pygments_lexer": "ipython3",
   "version": "3.9.0"
  }
 },
 "nbformat": 4,
 "nbformat_minor": 4
}