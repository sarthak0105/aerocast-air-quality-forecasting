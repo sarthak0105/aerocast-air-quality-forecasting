{
 "cells": [
  {
   "cell_type": "markdown",
   "metadata": {},
   "source": [
    "# Air Quality Data Exploration - Updated for Your Data Structure\n",
    "\n",
    "This notebook provides exploratory data analysis for your specific air quality forecasting dataset with columns:\n",
    "- year, month, day, hour\n",
    "- O3_forecast, NO2_forecast (targets)\n",
    "- T_forecast, q_forecast, u_forecast, v_forecast, w_forecast (meteorological)\n",
    "- NO2_satellite, HCHO_satellite, ratio_satellite (satellite data)"
   ]
  },
  {
   "cell_type": "code",
   "execution_count": null,
   "metadata": {},
   "outputs": [],
   "source": [
    "import pandas as pd\n",
    "import numpy as np\n",
    "import matplotlib.pyplot as plt\n",
    "import seaborn as sns\n",
    "from pathlib import Path\n",
    "import warnings\n",
    "warnings.filterwarnings('ignore')\n",
    "\n",
    "# Set style\n",
    "plt.style.use('seaborn-v0_8')\n",
    "sns.set_palette(\"husl\")\n",
    "\n",
    "# Add project root to path\n",
    "import sys\n",
    "sys.path.append('..')\n",
    "\n",
    "from config.settings import settings\n",
    "from src.utils.logger import setup_logging, get_logger\n",
    "\n",
    "# Setup logging\n",
    "setup_logging()\n",
    "logger = get_logger(__name__)"
   ]
  },
  {
   "cell_type": "markdown",
   "metadata": {},
   "source": [
    "## 1. Load and Inspect Data"
   ]
  },
  {
   "cell_type": "code",
   "execution_count": null,
   "metadata": {},
   "outputs": [],
   "source": [
    "# Load your dataset\n",
    "data_path = '../data/raw/Raw Data/Data_SIH_2025/site_1_unseen_input_data.csv'\n",
    "\n",
    "# Check if file exists\n",
    "if Path(data_path).exists():\n",
    "    df = pd.read_csv(data_path)\n",
    "    print(f\"Data loaded successfully: {df.shape}\")\n",
    "    \n",
    "    # Create datetime from components\n",
    "    df['datetime'] = pd.to_datetime(df[['year', 'month', 'day', 'hour']])\n",
    "    \n",
    "else:\n",
    "    print(f\"Data file not found: {data_path}\")\n",
    "    print(\"Creating sample data with your structure for demonstration...\")\n",
    "    \n",
    "    # Create sample data matching your structure\n",
    "    dates = pd.date_range('2020-01-01', '2023-12-31', freq='H')\n",
    "    n_samples = len(dates)\n",
    "    \n",
    "    # Generate synthetic data with your column structure\n",
    "    np.random.seed(42)\n",
    "    \n",
    "    df = pd.DataFrame({\n",
    "        'year': dates.year,\n",
    "        'month': dates.month,\n",
    "        'day': dates.day,\n",
    "        'hour': dates.hour,\n",
    "        'O3_forecast': np.random.lognormal(3.8, 0.4, n_samples),\n",
    "        'NO2_forecast': np.random.lognormal(3.5, 0.5, n_samples),\n",
    "        'T_forecast': np.random.normal(25, 8, n_samples),  # Celsius\n",
    "        'q_forecast': np.random.beta(2, 5, n_samples) * 0.02,  # Specific humidity\n",
    "        'u_forecast': np.random.normal(0, 3, n_samples),  # U wind component\n",
    "        'v_forecast': np.random.normal(0, 3, n_samples),  # V wind component\n",
    "        'w_forecast': np.random.normal(0, 0.1, n_samples),  # W wind component\n",
    "        'NO2_satellite': np.random.lognormal(3.3, 0.6, n_samples),\n",
    "        'HCHO_satellite': np.random.lognormal(2.8, 0.4, n_samples),\n",
    "        'ratio_satellite': np.random.lognormal(0.5, 0.3, n_samples)\n",
    "    })\n",
    "    \n",
    "    # Create datetime column\n",
    "    df['datetime'] = dates\n",
    "    \n",
    "    print(f\"Sample data created: {df.shape}\")"
   ]
  },
  {
   "cell_type": "code",
   "execution_count": null,
   "metadata": {},
   "outputs": [],
   "source": [
    "# Basic information about the dataset\n",
    "print(\"Dataset Info:\")\n",
    "print(f\"Shape: {df.shape}\")\n",
    "print(f\"Date range: {df['datetime'].min()} to {df['datetime'].max()}\")\n",
    "print(f\"Columns: {list(df.columns)}\")\n",
    "\n",
    "# Display first few rows\n",
    "df.head()"
   ]
  },
  {
   "cell_type": "code",
   "execution_count": null,
   "metadata": {},
   "outputs": [],
   "source": [
    "# Data types and missing values\n",
    "print(\"Data Types and Missing Values:\")\n",
    "info_df = pd.DataFrame({\n",
    "    'Data Type': df.dtypes,\n",
    "    'Missing Count': df.isnull().sum(),\n",
    "    'Missing %': (df.isnull().sum() / len(df)) * 100\n",
    "})\n",
    "print(info_df)"
   ]
  },
  {
   "cell_type": "markdown",
   "metadata": {},
   "source": [
    "## 2. Statistical Summary"
   ]
  },
  {
   "cell_type": "code",
   "execution_count": null,
   "metadata": {},
   "outputs": [],
   "source": [
    "# Statistical summary for numerical columns\n",
    "numerical_cols = df.select_dtypes(include=[np.number]).columns\n",
    "df[numerical_cols].describe()"
   ]
  },
  {
   "cell_type": "markdown",
   "metadata": {},
   "source": [
    "## 3. Target Variables Analysis (O3_forecast, NO2_forecast)"
   ]
  },
  {
   "cell_type": "code",
   "execution_count": null,
   "metadata": {},
   "outputs": [],
   "source": [
    "# Distribution of target variables\n",
    "fig, axes = plt.subplots(2, 2, figsize=(15, 10))\n",
    "\n",
    "# NO2_forecast distribution\n",
    "axes[0, 0].hist(df['NO2_forecast'], bins=50, alpha=0.7, edgecolor='black')\n",
    "axes[0, 0].set_title('NO2_forecast Distribution')\n",
    "axes[0, 0].set_xlabel('NO2_forecast (μg/m³)')\n",
    "axes[0, 0].set_ylabel('Frequency')\n",
    "\n",
    "# O3_forecast distribution\n",
    "axes[0, 1].hist(df['O3_forecast'], bins=50, alpha=0.7, edgecolor='black')\n",
    "axes[0, 1].set_title('O3_forecast Distribution')\n",
    "axes[0, 1].set_xlabel('O3_forecast (μg/m³)')\n",
    "axes[0, 1].set_ylabel('Frequency')\n",
    "\n",
    "# NO2_forecast box plot\n",
    "axes[1, 0].boxplot(df['NO2_forecast'])\n",
    "axes[1, 0].set_title('NO2_forecast Box Plot')\n",
    "axes[1, 0].set_ylabel('NO2_forecast (μg/m³)')\n",
    "\n",
    "# O3_forecast box plot\n",
    "axes[1, 1].boxplot(df['O3_forecast'])\n",
    "axes[1, 1].set_title('O3_forecast Box Plot')\n",
    "axes[1, 1].set_ylabel('O3_forecast (μg/m³)')\n",
    "\n",
    "plt.tight_layout()\n",
    "plt.show()"
   ]
  },
  {
   "cell_type": "code",
   "execution_count": null,
   "metadata": {},
   "outputs": [],
   "source": [
    "# Correlation between NO2_forecast and O3_forecast\n",
    "plt.figure(figsize=(8, 6))\n",
    "plt.scatter(df['NO2_forecast'], df['O3_forecast'], alpha=0.5)\n",
    "plt.xlabel('NO2_forecast (μg/m³)')\n",
    "plt.ylabel('O3_forecast (μg/m³)')\n",
    "plt.title('NO2_forecast vs O3_forecast Correlation')\n",
    "\n",
    "# Add correlation coefficient\n",
    "correlation = df['NO2_forecast'].corr(df['O3_forecast'])\n",
    "plt.text(0.05, 0.95, f'Correlation: {correlation:.3f}', \n",
    "         transform=plt.gca().transAxes, fontsize=12,\n",
    "         bbox=dict(boxstyle='round', facecolor='white', alpha=0.8))\n",
    "\n",
    "plt.grid(True, alpha=0.3)\n",
    "plt.show()"
   ]
  },
  {
   "cell_type": "markdown",
   "metadata": {},
   "source": [
    "## 4. Temporal Patterns"
   ]
  },
  {
   "cell_type": "code",
   "execution_count": null,
   "metadata": {},
   "outputs": [],
   "source": [
    "# Add day of week for analysis\n",
    "df['day_of_week'] = df['datetime'].dt.dayofweek"
   ]
  },
  {
   "cell_type": "code",
   "execution_count": null,
   "metadata": {},
   "outputs": [],
   "source": [
    "# Time series plot\n",
    "fig, axes = plt.subplots(2, 1, figsize=(15, 10))\n",
    "\n",
    "# Plot subset of data for clarity\n",
    "subset = df.iloc[:24*30]  # First 30 days\n",
    "\n",
    "axes[0].plot(subset['datetime'], subset['NO2_forecast'], label='NO2_forecast', alpha=0.8)\n",
    "axes[0].set_title('NO2_forecast Time Series (First 30 Days)')\n",
    "axes[0].set_ylabel('NO2_forecast (μg/m³)')\n",
    "axes[0].legend()\n",
    "axes[0].grid(True, alpha=0.3)\n",
    "\n",
    "axes[1].plot(subset['datetime'], subset['O3_forecast'], label='O3_forecast', color='orange', alpha=0.8)\n",
    "axes[1].set_title('O3_forecast Time Series (First 30 Days)')\n",
    "axes[1].set_ylabel('O3_forecast (μg/m³)')\n",
    "axes[1].set_xlabel('Date')\n",
    "axes[1].legend()\n",
    "axes[1].grid(True, alpha=0.3)\n",
    "\n",
    "plt.tight_layout()\n",
    "plt.show()"
   ]
  },
  {
   "cell_type": "code",
   "execution_count": null,
   "metadata": {},
   "outputs": [],
   "source": [
    "# Hourly patterns\n",
    "fig, axes = plt.subplots(1, 2, figsize=(15, 6))\n",
    "\n",
    "# NO2_forecast hourly pattern\n",
    "hourly_no2 = df.groupby('hour')['NO2_forecast'].mean()\n",
    "axes[0].plot(hourly_no2.index, hourly_no2.values, marker='o')\n",
    "axes[0].set_title('Average NO2_forecast by Hour of Day')\n",
    "axes[0].set_xlabel('Hour')\n",
    "axes[0].set_ylabel('NO2_forecast (μg/m³)')\n",
    "axes[0].grid(True, alpha=0.3)\n",
    "\n",
    "# O3_forecast hourly pattern\n",
    "hourly_o3 = df.groupby('hour')['O3_forecast'].mean()\n",
    "axes[1].plot(hourly_o3.index, hourly_o3.values, marker='o', color='orange')\n",
    "axes[1].set_title('Average O3_forecast by Hour of Day')\n",
    "axes[1].set_xlabel('Hour')\n",
    "axes[1].set_ylabel('O3_forecast (μg/m³)')\n",
    "axes[1].grid(True, alpha=0.3)\n",
    "\n",
    "plt.tight_layout()\n",
    "plt.show()"
   ]
  },
  {
   "cell_type": "code",
   "execution_count": null,
   "metadata": {},
   "outputs": [],
   "source": [
    "# Monthly patterns\n",
    "fig, axes = plt.subplots(1, 2, figsize=(15, 6))\n",
    "\n",
    "# NO2_forecast monthly pattern\n",
    "monthly_no2 = df.groupby('month')['NO2_forecast'].mean()\n",
    "axes[0].plot(monthly_no2.index, monthly_no2.values, marker='o')\n",
    "axes[0].set_title('Average NO2_forecast by Month')\n",
    "axes[0].set_xlabel('Month')\n",
    "axes[0].set_ylabel('NO2_forecast (μg/m³)')\n",
    "axes[0].set_xticks(range(1, 13))\n",
    "axes[0].grid(True, alpha=0.3)\n",
    "\n",
    "# O3_forecast monthly pattern\n",
    "monthly_o3 = df.groupby('month')['O3_forecast'].mean()\n",
    "axes[1].plot(monthly_o3.index, monthly_o3.values, marker='o', color='orange')\n",
    "axes[1].set_title('Average O3_forecast by Month')\n",
    "axes[1].set_xlabel('Month')\n",
    "axes[1].set_ylabel('O3_forecast (μg/m³)')\n",
    "axes[1].set_xticks(range(1, 13))\n",
    "axes[1].grid(True, alpha=0.3)\n",
    "\n",
    "plt.tight_layout()\n",
    "plt.show()"
   ]
  },
  {
   "cell_type": "markdown",
   "metadata": {},
   "source": [
    "## 5. Meteorological Variables Analysis"
   ]
  },
  {
   "cell_type": "code",
   "execution_count": null,
   "metadata": {},
   "outputs": [],
   "source": [
    "# Correlation matrix\n",
    "met_vars = ['T_forecast', 'q_forecast', 'u_forecast', 'v_forecast', 'w_forecast']\n",
    "satellite_vars = ['NO2_satellite', 'HCHO_satellite', 'ratio_satellite']\n",
    "target_vars = ['NO2_forecast', 'O3_forecast']\n",
    "\n",
    "corr_matrix = df[met_vars + satellite_vars + target_vars].corr()\n",
    "\n",
    "plt.figure(figsize=(12, 10))\n",
    "sns.heatmap(corr_matrix, annot=True, cmap='coolwarm', center=0, \n",
    "            square=True, fmt='.2f')\n",
    "plt.title('Correlation Matrix: All Variables')\n",
    "plt.tight_layout()\n",
    "plt.show()"
   ]
  },
  {
   "cell_type": "code",
   "execution_count": null,
   "metadata": {},
   "outputs": [],
   "source": [
    "# Wind analysis\n",
    "fig, axes = plt.subplots(2, 2, figsize=(15, 10))\n",
    "\n",
    "# Wind speed calculation\n",
    "df['wind_speed'] = np.sqrt(df['u_forecast']**2 + df['v_forecast']**2)\n",
    "df['wind_direction'] = np.arctan2(df['v_forecast'], df['u_forecast']) * 180 / np.pi\n",
    "df['wind_direction'] = (df['wind_direction'] + 360) % 360\n",
    "\n",
    "# Wind speed distribution\n",
    "axes[0, 0].hist(df['wind_speed'], bins=50, alpha=0.7, edgecolor='black')\n",
    "axes[0, 0].set_title('Wind Speed Distribution')\n",
    "axes[0, 0].set_xlabel('Wind Speed (m/s)')\n",
    "axes[0, 0].set_ylabel('Frequency')\n",
    "\n",
    "# Wind direction distribution\n",
    "axes[0, 1].hist(df['wind_direction'], bins=36, alpha=0.7, edgecolor='black')\n",
    "axes[0, 1].set_title('Wind Direction Distribution')\n",
    "axes[0, 1].set_xlabel('Wind Direction (degrees)')\n",
    "axes[0, 1].set_ylabel('Frequency')\n",
    "\n",
    "# Vertical wind component\n",
    "axes[1, 0].hist(df['w_forecast'], bins=50, alpha=0.7, edgecolor='black')\n",
    "axes[1, 0].set_title('Vertical Wind Component Distribution')\n",
    "axes[1, 0].set_xlabel('w_forecast (m/s)')\n",
    "axes[1, 0].set_ylabel('Frequency')\n",
    "\n",
    "# Temperature distribution\n",
    "axes[1, 1].hist(df['T_forecast'], bins=50, alpha=0.7, edgecolor='black')\n",
    "axes[1, 1].set_title('Temperature Distribution')\n",
    "axes[1, 1].set_xlabel('T_forecast (°C or K)')\n",
    "axes[1, 1].set_ylabel('Frequency')\n",
    "\n",
    "plt.tight_layout()\n",
    "plt.show()"
   ]
  },
  {
   "cell_type": "markdown",
   "metadata": {},
   "source": [
    "## 6. Satellite Data Analysis"
   ]
  },
  {
   "cell_type": "code",
   "execution_count": null,
   "metadata": {},
   "outputs": [],
   "source": [
    "# Satellite variables distribution\n",
    "fig, axes = plt.subplots(2, 2, figsize=(15, 10))\n",
    "\n",
    "# NO2_satellite distribution\n",
    "axes[0, 0].hist(df['NO2_satellite'], bins=50, alpha=0.7, edgecolor='black')\n",
    "axes[0, 0].set_title('NO2_satellite Distribution')\n",
    "axes[0, 0].set_xlabel('NO2_satellite')\n",
    "axes[0, 0].set_ylabel('Frequency')\n",
    "\n",
    "# HCHO_satellite distribution\n",
    "axes[0, 1].hist(df['HCHO_satellite'], bins=50, alpha=0.7, edgecolor='black')\n",
    "axes[0, 1].set_title('HCHO_satellite Distribution')\n",
    "axes[0, 1].set_xlabel('HCHO_satellite')\n",
    "axes[0, 1].set_ylabel('Frequency')\n",
    "\n",
    "# ratio_satellite distribution\n",
    "axes[1, 0].hist(df['ratio_satellite'], bins=50, alpha=0.7, edgecolor='black')\n",
    "axes[1, 0].set_title('ratio_satellite Distribution')\n",
    "axes[1, 0].set_xlabel('ratio_satellite')\n",
    "axes[1, 0].set_ylabel('Frequency')\n",
    "\n",
    "# Satellite vs Forecast comparison\n",
    "axes[1, 1].scatter(df['NO2_satellite'], df['NO2_forecast'], alpha=0.5)\n",
    "axes[1, 1].set_title('NO2_satellite vs NO2_forecast')\n",
    "axes[1, 1].set_xlabel('NO2_satellite')\n",
    "axes[1, 1].set_ylabel('NO2_forecast')\n",
    "axes[1, 1].grid(True, alpha=0.3)\n",
    "\n",
    "plt.tight_layout()\n",
    "plt.show()"
   ]
  },
  {
   "cell_type": "markdown",
   "metadata": {},
   "source": [
    "## 7. Feature Relationships"
   ]
  },
  {
   "cell_type": "code",
   "execution_count": null,
   "metadata": {},
   "outputs": [],
   "source": [
    "# Scatter plots: Key variables vs targets\n",
    "fig, axes = plt.subplots(2, 3, figsize=(18, 12))\n",
    "\n",
    "key_vars = ['T_forecast', 'wind_speed', 'NO2_satellite']\n",
    "\n",
    "for i, var in enumerate(key_vars):\n",
    "    # vs NO2_forecast\n",
    "    axes[0, i].scatter(df[var], df['NO2_forecast'], alpha=0.3, s=1)\n",
    "    axes[0, i].set_xlabel(var)\n",
    "    axes[0, i].set_ylabel('NO2_forecast')\n",
    "    axes[0, i].set_title(f'{var} vs NO2_forecast')\n",
    "    axes[0, i].grid(True, alpha=0.3)\n",
    "    \n",
    "    # vs O3_forecast\n",
    "    axes[1, i].scatter(df[var], df['O3_forecast'], alpha=0.3, s=1, color='orange')\n",
    "    axes[1, i].set_xlabel(var)\n",
    "    axes[1, i].set_ylabel('O3_forecast')\n",
    "    axes[1, i].set_title(f'{var} vs O3_forecast')\n",
    "    axes[1, i].grid(True, alpha=0.3)\n",
    "\n",
    "plt.tight_layout()\n",
    "plt.show()"
   ]
  },
  {
   "cell_type": "markdown",
   "metadata": {},
   "source": [
    "## 8. Data Quality Assessment"
   ]
  },
  {
   "cell_type": "code",
   "execution_count": null,
   "metadata": {},
   "outputs": [],
   "source": [
    "# Check for outliers using IQR method\n",
    "def detect_outliers(df, column):\n",
    "    Q1 = df[column].quantile(0.25)\n",
    "    Q3 = df[column].quantile(0.75)\n",
    "    IQR = Q3 - Q1\n",
    "    lower_bound = Q1 - 1.5 * IQR\n",
    "    upper_bound = Q3 + 1.5 * IQR\n",
    "    \n",
    "    outliers = df[(df[column] < lower_bound) | (df[column] > upper_bound)]\n",
    "    return len(outliers), (len(outliers) / len(df)) * 100\n",
    "\n",
    "print(\"Outlier Analysis:\")\n",
    "all_vars = target_vars + met_vars + satellite_vars\n",
    "for col in all_vars:\n",
    "    outlier_count, outlier_pct = detect_outliers(df, col)\n",
    "    print(f\"{col}: {outlier_count} outliers ({outlier_pct:.2f}%)\")"
   ]
  },
  {
   "cell_type": "code",
   "execution_count": null,
   "metadata": {},
   "outputs": [],
   "source": [
    "# Check for data gaps\n",
    "df_sorted = df.sort_values('datetime')\n",
    "time_diff = df_sorted['datetime'].diff()\n",
    "expected_freq = pd.Timedelta(hours=1)  # Assuming hourly data\n",
    "\n",
    "gaps = time_diff[time_diff > expected_freq]\n",
    "print(f\"Data gaps found: {len(gaps)}\")\n",
    "\n",
    "if len(gaps) > 0:\n",
    "    print(\"\\nLargest gaps:\")\n",
    "    print(gaps.nlargest(5))"
   ]
  },
  {
   "cell_type": "markdown",
   "metadata": {},
   "source": [
    "## 9. Summary and Recommendations"
   ]
  },
  {
   "cell_type": "code",
   "execution_count": null,
   "metadata": {},
   "outputs": [],
   "source": [
    "print(\"DATA EXPLORATION SUMMARY\")\n",
    "print(\"=\" * 50)\n",
    "print(f\"Dataset shape: {df.shape}\")\n",
    "print(f\"Date range: {df['datetime'].min()} to {df['datetime'].max()}\")\n",
    "print(f\"Total missing values: {df.isnull().sum().sum()}\")\n",
    "print(f\"Missing percentage: {(df.isnull().sum().sum() / df.size) * 100:.2f}%\")\n",
    "\n",
    "print(\"\\nTARGET VARIABLES:\")\n",
    "print(f\"NO2_forecast - Mean: {df['NO2_forecast'].mean():.2f}, Std: {df['NO2_forecast'].std():.2f}, Range: [{df['NO2_forecast'].min():.2f}, {df['NO2_forecast'].max():.2f}]\")\n",
    "print(f\"O3_forecast - Mean: {df['O3_forecast'].mean():.2f}, Std: {df['O3_forecast'].std():.2f}, Range: [{df['O3_forecast'].min():.2f}, {df['O3_forecast'].max():.2f}]\")\n",
    "print(f\"NO2-O3 Correlation: {df['NO2_forecast'].corr(df['O3_forecast']):.3f}\")\n",
    "\n",
    "print(\"\\nKEY FEATURES:\")\n",
    "print(f\"Temperature range: {df['T_forecast'].min():.1f} to {df['T_forecast'].max():.1f}\")\n",
    "print(f\"Wind speed range: 0 to {df['wind_speed'].max():.1f} m/s\")\n",
    "print(f\"Satellite NO2 vs Forecast correlation: {df['NO2_satellite'].corr(df['NO2_forecast']):.3f}\")\n",
    "\n",
    "print(\"\\nRECOMMENDATIONS:\")\n",
    "print(\"1. Handle missing values using appropriate imputation methods\")\n",
    "print(\"2. Consider outlier treatment for extreme values\")\n",
    "print(\"3. Engineer additional features from wind components (speed, direction)\")\n",
    "print(\"4. Create lag features for time series modeling\")\n",
    "print(\"5. Normalize/standardize features before modeling\")\n",
    "print(\"6. Leverage satellite data correlation with forecasts\")\n",
    "print(\"7. Consider seasonal and diurnal patterns in feature engineering\")"
   ]
  }
 ],
 "metadata": {
  "kernelspec": {
   "display_name": "Python 3",
   "language": "python",
   "name": "python3"
  },
  "language_info": {
   "codemirror_mode": {
    "name": "ipython",
    "version": 3
   },
   "file_extension": ".py",
   "mimetype": "text/x-python",
   "name": "python",
   "nbconvert_exporter": "python",
   "pygments_lexer": "ipython3",
   "version": "3.9.0"
  }
 },
 "nbformat": 4,
 "nbformat_minor": 4
}